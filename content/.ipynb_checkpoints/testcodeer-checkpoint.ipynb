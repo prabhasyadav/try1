{
 "cells": [
  {
   "cell_type": "markdown",
   "id": "be6d7c83",
   "metadata": {},
   "source": [
    "# Testing the code for run "
   ]
  },
  {
   "cell_type": "markdown",
   "id": "90c7f4a1",
   "metadata": {},
   "source": [
    "<script type=\"text/x-thebe-config\">\n",
    "  {\n",
    "    requestKernel: true,\n",
    "    binderOptions: {\n",
    "      repo: \"matplotlib/ipympl\",\n",
    "      ref: \"0.6.1\",\n",
    "      repoProvider: \"github\",\n",
    "    },\n",
    "  }\n",
    "</script>\n",
    "<script src=\"https://unpkg.com/thebe@latest/lib/index.js\"></script>\n"
   ]
  },
  {
   "cell_type": "markdown",
   "id": "a8c74df8",
   "metadata": {},
   "source": [
    "<script src=\"https://cdnjs.cloudflare.com/ajax/libs/require.js/2.3.4/require.min.js\"></script>\n",
    "\n",
    "<script type=\"text/x-thebe-config\">\n",
    "  {\n",
    "    requestKernel: true,\n",
    "    binderOptions: {\n",
    "      repo: \"try1\",\n",
    "      ref: \"master\",\n",
    "      binderUrl: \"https://mybinder.org\",\n",
    "      repoProvider: \"github\",\n",
    "    },\n",
    "  }\n",
    "</script>\n",
    "<script src=\"https://unpkg.com/thebe@latest/lib/index.js\"></script>\n",
    "\n",
    "<button id=\"activateButton\" style=\"width: 120px; height: 40px; font-size: 1.5em;\">\n",
    "  Activate\n",
    "</button>\n",
    "<script>\n",
    "var bootstrapThebe = function() {\n",
    "    thebe.bootstrap();\n",
    "}\n",
    "document.querySelector(\"#activateButton\").addEventListener('click', bootstrapThebe)\n",
    "</script>\n",
    "\n",
    "<pre data-executable=\"true\" data-language=\"python\">\n",
    "import plotly.express as px\n",
    "df = px.data.tips()\n",
    "fig = px.histogram(df, x=\"total_bill\", y=\"tip\", color=\"sex\", marginal=\"rug\",\n",
    "                   hover_data=df.columns)\n",
    "fig.show()\n",
    "</pre>"
   ]
  },
  {
   "cell_type": "markdown",
   "id": "b293e1f4",
   "metadata": {},
   "source": []
  }
 ],
 "metadata": {
  "kernelspec": {
   "display_name": "Python 3",
   "language": "python",
   "name": "python3"
  },
  "language_info": {
   "codemirror_mode": {
    "name": "ipython",
    "version": 3
   },
   "file_extension": ".py",
   "mimetype": "text/x-python",
   "name": "python",
   "nbconvert_exporter": "python",
   "pygments_lexer": "ipython3",
   "version": "3.7.11"
  }
 },
 "nbformat": 4,
 "nbformat_minor": 5
}
