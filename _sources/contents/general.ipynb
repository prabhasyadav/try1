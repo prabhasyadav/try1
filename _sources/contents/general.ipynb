{
 "cells": [
  {
   "cell_type": "markdown",
   "id": "3f2f7522",
   "metadata": {},
   "source": [
    "# <span style=\"color:Orange\">About this Groundwater Course and Contents</span>\n",
    "\n",
    "The contents provided in this website that forms an interactive book, is based on the Groundwater course created, maintained and lectured by **Prof. Rudolf Liedl** for over 15 years at the [Institute of Groundwater Manangement](https://tu-dresden.de/bu/umwelt/hydro/igw) of [TU Dresden](https://tu-dresden.de/).\n",
    "\n",
    "The course structure and contents have been used as an Introductory course on Groundwater for M.Sc. level students coming from multiple academic backgrounds.\n",
    "\n",
    "The texts provided in this **interactive book** is mostly based on the Prof. Liedl's lecture slides and the **interactive codes** are conversion from MS Excel® spreadsheet to Python codes.\n",
    "\n",
    ">**This interactive web-book is dedicated to Prof. Rudolf Liedl efforts to teach, train and inspire us and other students over the years.**\n",
    "\n",
    "## Basic contents structure\n",
    "The contents of this interactive book can be broadly divided in the following three groups:\n",
    "1. Lecture Parts\n",
    "2. Tutorial Parts\n",
    "3. Self-learning (simulation) tools\n",
    "   \n",
    "The first group (**aquifer properties and groundwater flow**) makes the core of this course. Here the very basic of groundwater, subsurface structure, properties that quantify groundwater mass and volume budgets, and the flow and other dynamics processes, e.g., abstraction using wells.\n",
    "\n",
    "The **transport in groundwater** topics focus on the quality aspects of groundwater. In particular, transport equations with and without inclusion of chemical reactions (e.g., sorption, decay) are considered. Eventually, few analytical solutions of transport problems are discussed.\n",
    "\n",
    "The **Groundwater Modelling** is for introducing the realm of computer modelling of groundwater and transport. Fundamentals of mathematical modelling, e.g., finite different methods, is introduced. The focus remains towards eventual use of MODFLOW (Flopy and Modelmuse interface), which is introduced in a short tutorial form.\n",
    "\n",
    "## What do you need in this course?\n",
    "\n",
    "You will need the following:\n",
    "* Laptop/Smartphone/tablet more convenient with internet connection\n",
    "* It is recomended to have an installed 'JUPYTER interface'.\n",
    "\n",
    "The course contents can be received as:\n",
    "\n",
    "* Lectures: Texts reading and interactive manipulation of codes/problems. Short questions (self-test) should be used to check the understanding of the contents.\n",
    "\n",
    "* Tutorials: Should be understand by manipulating the existing codes. The tutorials should be then independently solved using JUPYTER interface (Mybinder or Personal system)\n",
    "\n",
    "* Additional tools: The course provides several simulation tools- e.g., sieve analysis, effective conductivity, Advection-dispersion etc. These tools (also Python) provide high-level interactivity. These tools should be used to enhance learning.\n",
    "\n",
    "* Question banks/exam questions should be used to self-check the level of understanding\n",
    "\n",
    "\n",
    "Just adding new content to the overall files and seeing if it gets updated once i do the entire process again "
   ]
  },
  {
   "cell_type": "code",
   "execution_count": null,
   "id": "24f1b46a",
   "metadata": {},
   "outputs": [],
   "source": []
  }
 ],
 "metadata": {
  "kernelspec": {
   "display_name": "Python 3",
   "language": "python",
   "name": "python3"
  },
  "language_info": {
   "codemirror_mode": {
    "name": "ipython",
    "version": 3
   },
   "file_extension": ".py",
   "mimetype": "text/x-python",
   "name": "python",
   "nbconvert_exporter": "python",
   "pygments_lexer": "ipython3",
   "version": "3.7.11"
  }
 },
 "nbformat": 4,
 "nbformat_minor": 5
}
