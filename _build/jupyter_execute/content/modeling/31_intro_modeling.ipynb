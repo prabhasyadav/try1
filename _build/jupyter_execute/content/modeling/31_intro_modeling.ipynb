{
 "cells": [
  {
   "cell_type": "code",
   "execution_count": 1,
   "metadata": {
    "ExecuteTime": {
     "end_time": "2021-01-16T22:15:12.644121Z",
     "start_time": "2021-01-16T22:15:11.844073Z"
    },
    "tags": [
     "hide-input"
    ]
   },
   "outputs": [],
   "source": [
    "import numpy as np\n",
    "import scipy.special as sci\n",
    "import matplotlib.pyplot as plt\n",
    "from scipy import stats # linregress\n",
    "import pandas as pd\n",
    "from IPython.display import Latex"
   ]
  },
  {
   "cell_type": "markdown",
   "metadata": {},
   "source": [
    "# Lecture 11:  Background of Groundwater Modeling\n",
    "\n",
    "\n",
    "_(The contents presented in this section were re-developed principally by Dr. P. K. Yadav. The original contents are from Prof. Rudolf Liedl)_\n",
    "\n",
    "---\n",
    "\n",
    "## Motivation ### \n",
    "\n",
    "This lecture introduces the realm of mathematical modeling realm in groundwater studies. In the previous lectures the fundamental quantities, their properties and approach to quantify them were discussed. Those information were then used to develop system equations for varieties of groundwater problems. It was discussed then that these system equations require mathematical approaches the theory for which have to be systematically discussed and understood. Groundwater modeling can then be described as the systematic use of mathematical approaches leading to solution of the groundwater problem.\n",
    "\n",
    "\n",
    "Groundwater modeling is often the first step towards understanding and solving groundwater problems/issues. Groundwater modeling is a very broad topic, this and the following lectures only introduces fundamental part of groundwater modeling. In this course we focus on groundwater flow problems."
   ]
  },
  {
   "cell_type": "markdown",
   "metadata": {},
   "source": [
    "## Introduction ##\n",
    "\n",
    "### What is a Model? ###\n",
    "\n",
    "Very succinctly a  **model** is a representation, which may be an image or a description of a real system. The description can be of different form (e.g., scales), of different level of detail (e.g., conceptual versus mathematical). The **system** to be modeled can be a **real** or also **conceptual**. A very relevant example of a real system for this course is the Darcy's experiment (see figure below), in which water is made  to flow through the porous media.\n",
    "\n",
    "\n",
    "```{figure} images/M11_f1.png\n",
    "---\n",
    "scale: 60%\n",
    "align: center\n",
    "name: Darcy\n",
    "---\n",
    "Darcy's experimental setup<sup>[^Darcy(1856)]</sup>\n",
    "```\n",
    "With Darcy's experiment, one could set-up a mathematical model to relate flow rate and hydraulic gradient ($h$). As model is _only an image_ of the real system, several assumptions have to be made in it's development. At many instances the model can not be set without these assumptions. In other cases solution of the model may not be possible without these assumptions being part of the model development. Darcy‘s Law, for instance, does not provide an exact representation of flow through individual pore channels. Rather, **average** flow behaviour through **many** pore channels is represented.\n",
    "  \n",
    "\n",
    "[^Darcy(1856)]: Darcy, H., Les Fontaines Publiques de la Ville de Dijon, Dalmont, Paris, 1856.\n"
   ]
  },
  {
   "cell_type": "markdown",
   "metadata": {},
   "source": [
    "### Model Types: Process-Based and Empirical Models ###  \n",
    "\n",
    "Model can be classified in many ways. The following two types of classification are a more general way to classify models:\n",
    "\n",
    "> 1. **Conceptual models**\n",
    "\n",
    "> 2. **Process-Based and Empirical Models**\n",
    "\n",
    "> 3. **Mathematical models**\n",
    "\n",
    "#### Conceptual models ####\n",
    "\n",
    "The **conceptual models** is classification of models that distinguishes the qualitative from the quantitative description of a real system. A **conceptual model** provides a qualitative representation of the relevant system components, processes, and impacts in the area of investigation. This representation is usually shown graphically, e.g., as block models (see figure {ref}`Cmodel`). It will be shown later that conceptual model in fact is the first block in the development of a mathematical model. \n",
    "\n",
    "```{figure} images/M11_f3.png\n",
    "---\n",
    "scale: 20%\n",
    "align: center\n",
    "name: Cmodel\n",
    "---\n",
    "A conceptual model showing different components of a hydrological system that can impact groundwater.\n",
    "```\n",
    "\n",
    "\n",
    "#### Physically based models and Empirical models ####\n",
    "\n",
    "The **physically based models** also referred to as **process-based** models are models that exclusively relies on the fundamental physical laws - e.g., law of conservation of mass, energy, volume. _Compartment_  based models are example of physically based models.\n",
    "\n",
    "Contrary to use of fundamental physical laws, **empirical models** are developed on the basis on experimental/collected data. Sorption isotherms that were developed in lecture [(10)](/contents/transport/lecture_10/22_reactive_transport) are types of emperical models. As was with the isotherms, these types of models are often based on regression analysis. Figure below show a prediction (blue) line as a predictor of data.\n"
   ]
  },
  {
   "cell_type": "code",
   "execution_count": 2,
   "metadata": {
    "ExecuteTime": {
     "end_time": "2021-01-16T23:51:55.297392Z",
     "start_time": "2021-01-16T23:51:55.069965Z"
    },
    "tags": [
     "hide-input"
    ]
   },
   "outputs": [
    {
     "data": {
      "image/png": "[encoded data removed]",
      "text/plain": [
       "<Figure size 432x288 with 1 Axes>"
      ]
     },
     "metadata": {
      "filenames": {
       "image/png": "C:\\Users\\vibhu\\gwtextbook\\_build\\jupyter_execute\\content\\modeling\\31_intro_modeling_4_0.png"
      },
      "scrapbook": {
       "mime_prefix": "application/papermill.record/",
       "name": "em_fit"
      }
     },
     "output_type": "display_data"
    }
   ],
   "source": [
    "from myst_nb import glue\n",
    "import numpy as np\n",
    "import matplotlib.pyplot as plt\n",
    "from sklearn.linear_model import LinearRegression\n",
    "\n",
    "# x from 0 to 30\n",
    "x = 30 * np.random.random((20, 1))\n",
    "\n",
    "# y = a*x + b with noise\n",
    "y = 0.2 * x + 3.0 + np.random.normal(size=x.shape)\n",
    "\n",
    "# create a linear regression model\n",
    "model = LinearRegression()\n",
    "model.fit(x, y)\n",
    "\n",
    "# predict y from the data\n",
    "x_new = np.linspace(0, 30, 100)\n",
    "y_new = model.predict(x_new[:, np.newaxis])\n",
    "\n",
    "# plot the results\n",
    "fig, ax = plt.subplots(figsize=(6, 4))\n",
    "ax.scatter(x, y, c=\"red\", label = \"data\")\n",
    "ax.plot(x_new, y_new, label = \"prediction\")\n",
    "\n",
    "ax.set_ylabel(r'Discharge (m$^3$/s)')\n",
    "ax.set_xlabel('Hydraulic Head (m)')\n",
    "\n",
    "ax.axis('tight')\n",
    "ax.legend()\n",
    "\n",
    "plt.close(fig)\n",
    "glue(\"em_fit\", fig, display=False ) "
   ]
  },
  {
   "cell_type": "markdown",
   "metadata": {},
   "source": [
    "```{glue:figure} em_fit\n",
    ":figwidth: 600px\n",
    ":name: \"empirical\"\n",
    "\n",
    "Empirical relation between hydraulic head and discharge.\n",
    "```\n",
    "\n",
    "In certain cases **hybrid models**, e.g. **semi-empirical** models can also occur. These models combines the components of empirical/numerical and analytical models. Darcy's law in fact is a semi-empirical model. On the one hand, it is based on the momentum conservation.  On the other hand, it is not possible to _strictly_ deduce the direct proportionality between flow rate and hydraulic gradient by averaging the flow behaviour over all pores.\n"
   ]
  },
  {
   "cell_type": "markdown",
   "metadata": {},
   "source": [
    "#### Mathematical models ####\n",
    "\n",
    "A **mathematical model** provides a quantitative representation of the relevant system components (described by for e.g., conceptual model),processes (e.g., described by physical model) and impacts in the area of investigation. The quantitative representation is based on mathematical equations. The system equations, that were developed and discussed in Lecture [(7)](/contents/flow/lecture_07/17_quantify_flow) are mathematical models. \n",
    "\n",
    "System equation or mathematical models can in certain cases be solved directly resulting to an _exact solution_ called **analytical solution**. Theis equation that was developed in Lecture [(8)](/contents/flow/lecture_08/18_wells) to quantify aquifer drawdown resulting from pumping of groundwater is an example of an analytical solution. \n",
    "\n",
    "For more complex problems, often a more natural groundwater conditions, only _approximate_ (or non-exact) solution called **numerical solution** can be  obtained. Numerical solutions are obtained after converting the system equation to so called **numerical models**. \n",
    "\n",
    "Our focus in this introductory modeling lecture is to understand the development and solution of _numerical model_ of simple groundwater flow problems. \n",
    "\n"
   ]
  },
  {
   "cell_type": "markdown",
   "metadata": {
    "ExecuteTime": {
     "end_time": "2021-01-17T00:54:34.199326Z",
     "start_time": "2021-01-17T00:54:34.194613Z"
    }
   },
   "source": [
    "### Example of an Analytical Solution ###\n",
    "\n",
    "Consider a conceptual model presented in the Figure {ref}`Ditch`. The unconfined aquifer separates two surface exposed water bodies. The water body in the left has a higher hydraulic head ($h_0$, [L]) compared to that on the right ($h_u$). Thus the flow of water is from left water body to the right one along the separating aquifer. In this scenario one of the problem to address will be to understand how the aquifer reacts to change in heads of water bodies. Additionally, how additional water, e.g., from precipitation/recharge ($N$, [L/T]), will effect the aquifer water.\n",
    "\n",
    "```{figure} images/M11_f4.png\n",
    "---\n",
    "scale: 20%\n",
    "align: center\n",
    "name: Ditch\n",
    "---\n",
    "Conceptual model of a flow between two water bodies separated by unconfined aquifer\n",
    "```\n",
    "The conceptual problem can be addressed when assumptions such as steady condition prevails, Darcy's law in aquifer is valid, recharge rate are relatively low. Based on the these assumptions, one of the **mathematical model** of this conceptual problem is:\n",
    "\n",
    "$$\n",
    "\\frac{\\textrm{d}}{\\textrm{d}x}\\bigg(-h \\cdot K\\cdot \\frac{\\textrm{d}h}{\\textrm{d}x}  \\bigg) = N\n",
    "$$\n",
    "\n",
    "and the 2 boundary conditions:\n",
    "\n",
    "$$\n",
    "h(0) = h_0 \\:\\: \\text{and} \\:\\: h(L) = h_L\n",
    "$$\n",
    "\n",
    "Note that a complete formulation of mathematical model requires accompanying boundary conditions. The boundary conditions are used to uniquely define the problem. An _analytical solution_ for this mathematical model and accompanying boundary condition is:\n",
    "\n",
    "$$\n",
    "h(x) = \\sqrt{h_o^2 - (h_o^2 - h_L^2)\\cdot \\frac{x}{L} + \\frac{N}{K}\\cdot x \\cdot (L-x) }\n",
    "$$\n",
    "\n",
    "The solution can be used to quantify change in aquifer head $h$ with different system quantities, e.g., conductivity $K$ [L/T], recharge $N$ [L/T] water body heights $h_0,\\, h_L$ [L] along the flow direction. \n",
    "\n",
    "The additional tool: _Conservative Transport_ ([TOOLS](/contents/tools/1D_ditchflow)) interactively simulates the ditch flow concept in more details."
   ]
  },
  {
   "cell_type": "markdown",
   "metadata": {},
   "source": [
    "### Example problem  ###\n",
    "\n",
    "```{admonition} Ditch flow\n",
    "Explore the effect of recharge ($N= 0$ and $N= 0.1$ mm/d) on the aquifer level for the conceptual problem provided above. Other required data are provided below. \n",
    "The effect are to be explored at mid of the aquifer\n",
    "``` \n",
    "\n"
   ]
  },
  {
   "cell_type": "code",
   "execution_count": 3,
   "metadata": {},
   "outputs": [
    {
     "name": "stdout",
     "output_type": "stream",
     "text": [
      "Provided are:\n",
      "\n",
      "hydraulic conductivity = 0.0002 m\n",
      "head at origin = 10 m\n",
      "head at L = 7.5 m\n",
      "flow length = 175 m\n",
      "Recharge = 1000 mm/a \n",
      "\n",
      "The resulting head without head is 8.84 m \n",
      "\n",
      "The resulting head with head is 8.91 m \n",
      "\n"
     ]
    }
   ],
   "source": [
    " print(\"Provided are:\\n\")\n",
    "\n",
    "K = 2E-4 # hydraulic conductivity [m/s]\n",
    "Ho = 10 # head at the origin [m]\n",
    "Hu = 7.5 # head at L [m]\n",
    "L = 175 #flow length [m]\n",
    "N1 = 0 # no recharge [m/s]\n",
    "N2 = 1000 # recharge [mm/a]\n",
    "\n",
    "# intermediate calculation \n",
    "x = L/2 # mid of the aquifer [m]\n",
    "N_ = N2/1000/365/86400 # recharge, [m/s]\n",
    " \n",
    "#solution\n",
    "h1=(Ho**2-(Ho**2-Hu**2)/L*x+(N1/K*x*(L-x)))**0.5\n",
    "h2=(Ho**2-(Ho**2-Hu**2)/L*x+(N_/K*x*(L-x)))**0.5\n",
    "\n",
    "print(\"hydraulic conductivity = {} m\\nhead at origin = {} m\\nhead at L = {} m\\nflow length = {} m\\nRecharge = {} mm/a\".format(K, Ho, Hu, L, N2 ),\"\\n\")\n",
    "print(\"The resulting head without head is {:0.2f} m \\n\".format(h1))\n",
    "print(\"The resulting head with head is {:0.2f} m \\n\".format(h2))\n",
    "\n"
   ]
  },
  {
   "cell_type": "markdown",
   "metadata": {},
   "source": [
    "### Example for a Model without Analytical Solution ###\n",
    "\n",
    "Analytical solutions are rather an exception. Natural aquifer or groundwater system are more complex (see figure below) and therefore analytical solution are not possible. The complexity in natural system are due to parameter heterogeneity and irregular model domain boundaries, and these must be included in underlying model equation. \n",
    "\n",
    "\n",
    "```{figure} images/M11_f5.png\n",
    "---\n",
    "scale: 60%\n",
    "align: center\n",
    "name: nummodel\n",
    "---\n",
    "The numerical model of a natural aquifer\n",
    "```\n",
    "\n",
    "\n"
   ]
  },
  {
   "cell_type": "markdown",
   "metadata": {},
   "source": [
    "## Conceptual Model to Numerical Approach ##\n",
    "\n",
    "The first step in modeling is to establish the purpose of the model. With that established, the development of conceptual model begins the set-up of the numerical model. This is a step-wise process that includes:\n",
    "\n",
    "> 1. **Conceptual model** - providing hydrogeological units within the model domain\n",
    "\n",
    "> 2. **Water budgeting** - identifying water containing units and characterizing it\n",
    "\n",
    "> 3. **Numerical model** - Combining the units of conceptual model, water budgeting components and imposing _boundary conditions._ \n",
    "\n",
    "```{figure} images/M11_f6.png\n",
    "---\n",
    "scale: 60%\n",
    "align: center\n",
    "name: nummodel\n",
    "---\n",
    "The numerical model of a natural aquifer\n",
    "```\n",
    "\n",
    "The water budgeting part should include the sources of water inflowing to the system including the expected flow directions and exiting water. Estimate of Groundwater recharge, overland flow etc, are few examples of inflows. Likewise, estimate of baseflow to streams, evapotranspiration, abstraction wells etc. are outflows. Field data are required to prepare water budget.\n",
    "\n",
    "The type of numerical model, depending on the modeling goal and required/available data, is then decided. The model type is mostly time-related (transient, steady) and dimension-related (1D,2D, 3D). "
   ]
  },
  {
   "cell_type": "markdown",
   "metadata": {},
   "source": [
    "### Data Requirements ###\n",
    "\n",
    "Numerical model are often very data intensive. Several types of data of different origin are required in the development of a numerical model. These data come from site data records/maps, field works, lab works and the ancillary mathematical analysis of the field and lab data. Overall, the required data can be:\n",
    "\n",
    "+ topographical maps (with surface waters and water divides)\n",
    "+ geological maps, geological profiles (see figure {ref}`nummodel` example)\n",
    "+ maps with isolines of aquifer bottoms / thicknesses , aquitard bottoms / thicknesses\n",
    "+ maps indicating vertical extensions of sediments under rivers and lakes\n",
    "+ hydrogeological maps (hydraulic head isolines)\n",
    "+ water level time series in observation wells and rivers\n",
    "+ time series of spring discharges\n",
    "+ maps and profiles of hydraulic conductivity or transmissivity (also for river / lake sediments mentioned above)\n",
    "+ maps and profiles of storage coefficients\n",
    "+ information on spatial and temporal variability of inflow / outflow due to \n",
    "  - groundwater recharge                                                     \n",
    "  - evapotranspiration                                                       \n",
    "  - interaction between groundwater and surface water                        \n",
    "  - groundwater abstraction                                                  \n",
    "  - natural groundwater flow\n"
   ]
  },
  {
   "cell_type": "markdown",
   "metadata": {},
   "source": [
    "## Example of a Groundwater Model ##\n",
    "\n",
    "Let us now develop an example flow model. To begin with we set-up an overly simplified model that still will require a numerical solution. \n",
    "\n",
    "**Step 1** - Spatial Extension\n",
    "+ Horizontal extension along $x-$direction: 4000 m\n",
    "+ Horizontal extension along $y-$direction: 2500 m\n",
    "+ vertical extension along $z$-direction: from $z = 250$ m a.s.l. at the aquifer bottom to $z= 265$ m at the aquifer top.\n",
    "+ aquifer thickness is uniform = 15 m.\n",
    "\n",
    "Putting these information graphically, we get the following schematic:\n",
    "\n",
    "```{figure} images/M11_f7.png\n",
    "---\n",
    "scale: 40%\n",
    "align: center\n",
    "name: nummodel_ex\n",
    "---\n",
    "Spatial extension of an example numerical model\n",
    "```\n",
    "The example model is 2D and we _assume_ that vertical flow components can be neglected despite the recharge vertically entering the groundwater. These kinds of simplification are quite common in the development of the numerical model. These simplifications have to be justified when presenting model results. \n",
    "\n",
    "**Step 2** - Hydraulic Properties \n",
    "\n",
    "For our example model we consider the following:\n",
    "\n",
    "+ effective porosity ($\\eta_e$) in the model domain: 0.2 or 20%\n",
    "+ two zones with different hydraulic conductivities ($K$)\n",
    "+ two zones with different groundwater recharge\n",
    "+ A section of a river (_river reach_) is in hydraulic contact with the aquifer. i.e. there may be water transfer from the river to the aquifer (_influent conditions_) or vice versa (_effluent conditions_).\n",
    "+ inflow boundary with prescribed hydraulic heads\n",
    "+ outflow boundary with prescribed hydraulic heads\n",
    "+ two impermeable boundaries\n",
    "\n",
    "**Step 3** - The model purpose and conceptual model\n",
    "\n",
    "From our example model we intend to:\n",
    "\n",
    "+ Abstraction of groundwater through wells is planned in the area with an overall pumping rate of 7000 m$^3$/d.\n",
    "\n",
    "+ Water extraction is to be distributed between two wells located at $(x,y) =$ (3050 m, 1550 m) and $(x,y)$ = (3050 m, 1450 m), resp.\n",
    "\n",
    "+ The model purpose is to outline the 50-days isochrone for both wells. \n",
    "\n",
    "With these information available, our conceptual model takes the following form:\n",
    "\n",
    "```{figure} images/M11_f8.png\n",
    "---\n",
    "scale: 25%\n",
    "align: center\n",
    "name: Concept_model\n",
    "---\n",
    "The conceptual model of the example model\n",
    "```\n",
    "**Step 4** - The numerical approach \n",
    "\n",
    "This is discussed in the next lecture."
   ]
  },
  {
   "cell_type": "markdown",
   "metadata": {},
   "source": []
  }
 ],
 "metadata": {
  "hide_input": false,
  "kernelspec": {
   "display_name": "Python 3",
   "language": "python",
   "name": "python3"
  },
  "language_info": {
   "codemirror_mode": {
    "name": "ipython",
    "version": 3
   },
   "file_extension": ".py",
   "mimetype": "text/x-python",
   "name": "python",
   "nbconvert_exporter": "python",
   "pygments_lexer": "ipython3",
   "version": "3.10.4"
  },
  "latex_envs": {
   "LaTeX_envs_menu_present": true,
   "autoclose": false,
   "autocomplete": true,
   "bibliofile": "biblio.bib",
   "cite_by": "apalike",
   "current_citInitial": 1,
   "eqLabelWithNumbers": false,
   "eqNumInitial": 1,
   "hotkeys": {
    "equation": "Ctrl-E",
    "itemize": "Ctrl-I"
   },
   "labels_anchors": false,
   "latex_user_defs": false,
   "report_style_numbering": false,
   "user_envs_cfg": false
  },
  "toc": {
   "base_numbering": 1,
   "nav_menu": {},
   "number_sections": true,
   "sideBar": true,
   "skip_h1_title": false,
   "title_cell": "Table of Contents",
   "title_sidebar": "Contents",
   "toc_cell": false,
   "toc_position": {},
   "toc_section_display": true,
   "toc_window_display": false
  },
  "varInspector": {
   "cols": {
    "lenName": 16,
    "lenType": 16,
    "lenVar": 40
   },
   "kernels_config": {
    "python": {
     "delete_cmd_postfix": "",
     "delete_cmd_prefix": "del ",
     "library": "var_list.py",
     "varRefreshCmd": "print(var_dic_list())"
    },
    "r": {
     "delete_cmd_postfix": ") ",
     "delete_cmd_prefix": "rm(",
     "library": "var_list.r",
     "varRefreshCmd": "cat(var_dic_list()) "
    }
   },
   "position": {
    "height": "531.4px",
    "left": "1157px",
    "right": "20px",
    "top": "120px",
    "width": "359px"
   },
   "types_to_exclude": [
    "module",
    "function",
    "builtin_function_or_method",
    "instance",
    "_Feature"
   ],
   "window_display": false
  }
 },
 "nbformat": 4,
 "nbformat_minor": 4
}